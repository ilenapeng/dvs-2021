{
 "cells": [
  {
   "cell_type": "code",
   "execution_count": 1,
   "id": "2c8e1663",
   "metadata": {},
   "outputs": [
    {
     "name": "stderr",
     "output_type": "stream",
     "text": [
      "/Users/ilenapeng/.pyenv/versions/3.9.7/lib/python3.9/site-packages/pandas/compat/__init__.py:124: UserWarning: Could not import the lzma module. Your installed Python is incomplete. Attempting to use lzma compression will result in a RuntimeError.\n",
      "  warnings.warn(msg)\n"
     ]
    }
   ],
   "source": [
    "import pandas as pd\n",
    "import numpy as np"
   ]
  },
  {
   "cell_type": "code",
   "execution_count": 2,
   "id": "632c0a02",
   "metadata": {},
   "outputs": [],
   "source": [
    "df = pd.read_csv('soti-raw.csv')"
   ]
  },
  {
   "cell_type": "code",
   "execution_count": 3,
   "id": "48efc659",
   "metadata": {},
   "outputs": [],
   "source": [
    "# Replace values\n",
    "\n",
    "# Remove the untrue\n",
    "df = df.replace('Untrue of Me', np.nan)\n",
    "df = df.replace('Very Untrue of Me', np.nan)\n",
    "\n",
    "# Replace True of me with Me capital\n",
    "df = df.replace('True of me', 'True of Me')"
   ]
  },
  {
   "cell_type": "code",
   "execution_count": 4,
   "id": "26743922",
   "metadata": {},
   "outputs": [],
   "source": [
    "# Pivot df\n",
    "melt_df = pd.melt(df, var_name = 'purpose', value_name = 'answer')"
   ]
  },
  {
   "cell_type": "code",
   "execution_count": 5,
   "id": "9254a0c4",
   "metadata": {},
   "outputs": [
    {
     "data": {
      "text/html": [
       "<div>\n",
       "<style scoped>\n",
       "    .dataframe tbody tr th:only-of-type {\n",
       "        vertical-align: middle;\n",
       "    }\n",
       "\n",
       "    .dataframe tbody tr th {\n",
       "        vertical-align: top;\n",
       "    }\n",
       "\n",
       "    .dataframe thead th {\n",
       "        text-align: right;\n",
       "    }\n",
       "</style>\n",
       "<table border=\"1\" class=\"dataframe\">\n",
       "  <thead>\n",
       "    <tr style=\"text-align: right;\">\n",
       "      <th></th>\n",
       "      <th>purpose</th>\n",
       "      <th>answer</th>\n",
       "      <th>count</th>\n",
       "    </tr>\n",
       "  </thead>\n",
       "  <tbody>\n",
       "    <tr>\n",
       "      <th>0</th>\n",
       "      <td>HobbyBuildSkills</td>\n",
       "      <td>Very True of Me</td>\n",
       "      <td>148</td>\n",
       "    </tr>\n",
       "    <tr>\n",
       "      <th>1</th>\n",
       "      <td>HobbyBuildSkills</td>\n",
       "      <td>True of Me</td>\n",
       "      <td>71</td>\n",
       "    </tr>\n",
       "    <tr>\n",
       "      <th>2</th>\n",
       "      <td>HobbyBuildSkills</td>\n",
       "      <td>Neutral</td>\n",
       "      <td>17</td>\n",
       "    </tr>\n",
       "    <tr>\n",
       "      <th>3</th>\n",
       "      <td>HobbyEnjoyment</td>\n",
       "      <td>Very True of Me</td>\n",
       "      <td>140</td>\n",
       "    </tr>\n",
       "    <tr>\n",
       "      <th>4</th>\n",
       "      <td>HobbyEnjoyment</td>\n",
       "      <td>True of Me</td>\n",
       "      <td>85</td>\n",
       "    </tr>\n",
       "    <tr>\n",
       "      <th>5</th>\n",
       "      <td>HobbyEnjoyment</td>\n",
       "      <td>Neutral</td>\n",
       "      <td>10</td>\n",
       "    </tr>\n",
       "    <tr>\n",
       "      <th>6</th>\n",
       "      <td>HobbyPortfolio</td>\n",
       "      <td>Very True of Me</td>\n",
       "      <td>89</td>\n",
       "    </tr>\n",
       "    <tr>\n",
       "      <th>7</th>\n",
       "      <td>HobbyPortfolio</td>\n",
       "      <td>True of Me</td>\n",
       "      <td>82</td>\n",
       "    </tr>\n",
       "    <tr>\n",
       "      <th>8</th>\n",
       "      <td>HobbyPortfolio</td>\n",
       "      <td>Neutral</td>\n",
       "      <td>41</td>\n",
       "    </tr>\n",
       "    <tr>\n",
       "      <th>9</th>\n",
       "      <td>HobbyShareMessages</td>\n",
       "      <td>True of Me</td>\n",
       "      <td>99</td>\n",
       "    </tr>\n",
       "    <tr>\n",
       "      <th>10</th>\n",
       "      <td>HobbyShareMessages</td>\n",
       "      <td>Neutral</td>\n",
       "      <td>62</td>\n",
       "    </tr>\n",
       "    <tr>\n",
       "      <th>11</th>\n",
       "      <td>HobbyShareMessages</td>\n",
       "      <td>Very True of Me</td>\n",
       "      <td>52</td>\n",
       "    </tr>\n",
       "    <tr>\n",
       "      <th>12</th>\n",
       "      <td>HobbyVolunteer</td>\n",
       "      <td>True of Me</td>\n",
       "      <td>66</td>\n",
       "    </tr>\n",
       "    <tr>\n",
       "      <th>13</th>\n",
       "      <td>HobbyVolunteer</td>\n",
       "      <td>Neutral</td>\n",
       "      <td>58</td>\n",
       "    </tr>\n",
       "    <tr>\n",
       "      <th>14</th>\n",
       "      <td>HobbyVolunteer</td>\n",
       "      <td>Very True of Me</td>\n",
       "      <td>29</td>\n",
       "    </tr>\n",
       "  </tbody>\n",
       "</table>\n",
       "</div>"
      ],
      "text/plain": [
       "               purpose           answer  count\n",
       "0     HobbyBuildSkills  Very True of Me    148\n",
       "1     HobbyBuildSkills       True of Me     71\n",
       "2     HobbyBuildSkills          Neutral     17\n",
       "3       HobbyEnjoyment  Very True of Me    140\n",
       "4       HobbyEnjoyment       True of Me     85\n",
       "5       HobbyEnjoyment          Neutral     10\n",
       "6       HobbyPortfolio  Very True of Me     89\n",
       "7       HobbyPortfolio       True of Me     82\n",
       "8       HobbyPortfolio          Neutral     41\n",
       "9   HobbyShareMessages       True of Me     99\n",
       "10  HobbyShareMessages          Neutral     62\n",
       "11  HobbyShareMessages  Very True of Me     52\n",
       "12      HobbyVolunteer       True of Me     66\n",
       "13      HobbyVolunteer          Neutral     58\n",
       "14      HobbyVolunteer  Very True of Me     29"
      ]
     },
     "execution_count": 5,
     "metadata": {},
     "output_type": "execute_result"
    }
   ],
   "source": [
    "# Count number of people who answered each one for each skill\n",
    "melt_df_count = melt_df.groupby('purpose').answer.value_counts().reset_index(name='count')\n",
    "melt_df_count"
   ]
  },
  {
   "cell_type": "code",
   "execution_count": 6,
   "id": "a50f3c4e",
   "metadata": {},
   "outputs": [],
   "source": [
    "melt_df_count.to_csv('soti-clean.csv', index=False)"
   ]
  }
 ],
 "metadata": {
  "kernelspec": {
   "display_name": "Python 3 (ipykernel)",
   "language": "python",
   "name": "python3"
  },
  "language_info": {
   "codemirror_mode": {
    "name": "ipython",
    "version": 3
   },
   "file_extension": ".py",
   "mimetype": "text/x-python",
   "name": "python",
   "nbconvert_exporter": "python",
   "pygments_lexer": "ipython3",
   "version": "3.9.7"
  }
 },
 "nbformat": 4,
 "nbformat_minor": 5
}
